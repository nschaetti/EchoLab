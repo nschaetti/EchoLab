{
 "cells": [
  {
   "cell_type": "markdown",
   "id": "1c409540eabb14d",
   "metadata": {},
   "source": [
    "# Introduction à SymPy\n",
    "\n",
    "## Qu’est-ce que le calcul symbolique ?\n",
    "\n",
    "Le calcul symbolique consiste à effectuer des calculs sur des objets mathématiques de manière symbolique. Cela signifie que les objets mathématiques sont représentés **exactement**, et non de façon approximative, et que les expressions mathématiques comportant des variables non évaluées sont conservées sous forme symbolique.\n",
    "\n",
    "Prenons un exemple. Supposons que nous voulions utiliser les fonctions intégrées de Python pour calculer des racines carrées. Nous pourrions faire quelque chose comme ceci :"
   ]
  },
  {
   "cell_type": "code",
   "execution_count": 18,
   "id": "initial_id",
   "metadata": {
    "ExecuteTime": {
     "end_time": "2025-10-20T09:42:42.122105Z",
     "start_time": "2025-10-20T09:42:42.118318Z"
    },
    "collapsed": true,
    "jupyter": {
     "outputs_hidden": true
    }
   },
   "outputs": [
    {
     "data": {
      "text/plain": [
       "3.0"
      ]
     },
     "execution_count": 18,
     "metadata": {},
     "output_type": "execute_result"
    }
   ],
   "source": [
    "import math\n",
    "math.sqrt(9)"
   ]
  },
  {
   "cell_type": "markdown",
   "id": "64e197be6f754a0d",
   "metadata": {},
   "source": [
    "9 est un carré parfait, donc nous avons obtenu la réponse exacte : 3.\n",
    "\n",
    "Mais supposons que nous calculions la racine carrée d’un nombre qui **n’est pas** un carré parfait."
   ]
  },
  {
   "cell_type": "code",
   "execution_count": 19,
   "id": "10515298a2d3aefe",
   "metadata": {
    "ExecuteTime": {
     "end_time": "2025-10-20T09:42:46.290258Z",
     "start_time": "2025-10-20T09:42:46.287018Z"
    }
   },
   "outputs": [
    {
     "data": {
      "text/plain": [
       "2.8284271247461903"
      ]
     },
     "execution_count": 19,
     "metadata": {},
     "output_type": "execute_result"
    }
   ],
   "source": [
    "math.sqrt(8)"
   ]
  },
  {
   "cell_type": "markdown",
   "id": "2ab03d5f13cbb28f",
   "metadata": {},
   "source": [
    "Ici, nous avons obtenu un résultat **approximatif**. `2.82842712475` n’est pas la racine carrée exacte de 8 (en effet, la véritable racine carrée de 8 ne peut pas être représentée par un nombre décimal fini, puisqu’il s’agit d’un **nombre irrationnel**). Si tout ce qui nous intéressait était la forme décimale de la racine carrée de 8, nous pourrions nous arrêter là.\n",
    "\n",
    "Mais supposons que nous voulions aller plus loin. Rappelons que $\\sqrt{8} = \\sqrt{4 \\cdot 2} = 2\\sqrt{2}$.\n",
    "Il serait difficile de déduire cela à partir du résultat précédent. C’est là qu’intervient le **calcul symbolique**.\n",
    "Avec un système de calcul symbolique comme **SymPy**, les racines carrées de nombres qui ne sont pas des carrés parfaits sont laissées **non évaluées** par défaut."
   ]
  },
  {
   "cell_type": "code",
   "execution_count": 20,
   "id": "bcb1b85ff5e0206d",
   "metadata": {
    "ExecuteTime": {
     "end_time": "2025-10-20T09:43:20.039664Z",
     "start_time": "2025-10-20T09:43:20.034823Z"
    }
   },
   "outputs": [
    {
     "data": {
      "text/latex": [
       "$\\displaystyle \\sqrt{3}$"
      ],
      "text/plain": [
       "sqrt(3)"
      ]
     },
     "execution_count": 20,
     "metadata": {},
     "output_type": "execute_result"
    }
   ],
   "source": [
    "import sympy\n",
    "sympy.sqrt(3)"
   ]
  },
  {
   "cell_type": "markdown",
   "id": "46265745abd05e22",
   "metadata": {},
   "source": [
    "De plus — et c’est ici que l’on commence à percevoir la véritable puissance du calcul symbolique — les résultats symboliques peuvent être **simplifiés symboliquement**."
   ]
  },
  {
   "cell_type": "code",
   "execution_count": 21,
   "id": "8399e8adc3995ad6",
   "metadata": {
    "ExecuteTime": {
     "end_time": "2025-10-20T09:44:16.202256Z",
     "start_time": "2025-10-20T09:44:16.196428Z"
    }
   },
   "outputs": [
    {
     "data": {
      "text/latex": [
       "$\\displaystyle 2 \\sqrt{2}$"
      ],
      "text/plain": [
       "2*sqrt(2)"
      ]
     },
     "execution_count": 21,
     "metadata": {},
     "output_type": "execute_result"
    }
   ],
   "source": [
    "sympy.sqrt(8)"
   ]
  },
  {
   "cell_type": "markdown",
   "id": "480bfa8f8219905d",
   "metadata": {},
   "source": [
    "## Un exemple plus intéressant\n",
    "\n",
    "L’exemple précédent commence à montrer comment nous pouvons manipuler exactement des nombres irrationnels avec SymPy.\n",
    "Mais SymPy est bien plus puissant que cela.\n",
    "\n",
    "Les systèmes de calcul symbolique (que l’on appelle d’ailleurs souvent **systèmes d’algèbre informatique**, ou simplement **CAS** pour *Computer Algebra Systems*) tels que SymPy sont capables de manipuler des **expressions symboliques comportant des variables**.\n",
    "\n",
    "Comme nous le verrons plus loin, dans SymPy, les variables sont définies à l’aide de `symbols`.\n",
    "Contrairement à de nombreux autres systèmes de manipulation symbolique, les variables dans SymPy doivent être **définies avant d’être utilisées** (la raison de cette contrainte sera discutée dans la section suivante).\n",
    "\n",
    "Définissons une expression symbolique représentant l’expression mathématique :\n",
    "$x + 2y$.\n"
   ]
  },
  {
   "cell_type": "code",
   "execution_count": 22,
   "id": "9a3becad6c783a67",
   "metadata": {
    "ExecuteTime": {
     "end_time": "2025-10-20T09:44:47.018152Z",
     "start_time": "2025-10-20T09:44:47.012624Z"
    }
   },
   "outputs": [
    {
     "data": {
      "text/latex": [
       "$\\displaystyle x + 2 y$"
      ],
      "text/plain": [
       "x + 2*y"
      ]
     },
     "execution_count": 22,
     "metadata": {},
     "output_type": "execute_result"
    }
   ],
   "source": [
    "from sympy import symbols\n",
    "x, y = symbols('x y')\n",
    "expr = x + 2 * y\n",
    "expr"
   ]
  },
  {
   "cell_type": "markdown",
   "id": "3c680ec7f6333414",
   "metadata": {},
   "source": [
    "Remarquez que nous avons écrit $x + 2 * y$ exactement comme nous le ferions si $x$ et $y$ étaient de simples variables Python ordinaires.  \n",
    "Mais dans ce cas, au lieu d’être évaluée à une valeur, l’expression reste simplement $x + 2 * y$.  \n",
    "\n",
    "Voyons maintenant ce que nous pouvons en faire :"
   ]
  },
  {
   "cell_type": "code",
   "execution_count": 10,
   "id": "631a40a86af45a80",
   "metadata": {
    "ExecuteTime": {
     "end_time": "2025-10-20T09:28:58.315799Z",
     "start_time": "2025-10-20T09:28:58.309122Z"
    }
   },
   "outputs": [
    {
     "data": {
      "text/latex": [
       "$\\displaystyle x + 2 y + 1$"
      ],
      "text/plain": [
       "x + 2*y + 1"
      ]
     },
     "execution_count": 10,
     "metadata": {},
     "output_type": "execute_result"
    }
   ],
   "source": [
    "expr + 1"
   ]
  },
  {
   "cell_type": "code",
   "execution_count": 11,
   "id": "c1b659d8a4be7c7",
   "metadata": {
    "ExecuteTime": {
     "end_time": "2025-10-20T09:29:22.171398Z",
     "start_time": "2025-10-20T09:29:22.167463Z"
    }
   },
   "outputs": [
    {
     "data": {
      "text/latex": [
       "$\\displaystyle 2 y$"
      ],
      "text/plain": [
       "2*y"
      ]
     },
     "execution_count": 11,
     "metadata": {},
     "output_type": "execute_result"
    }
   ],
   "source": [
    "expr - x"
   ]
  },
  {
   "cell_type": "markdown",
   "id": "8d9287f00906527b",
   "metadata": {},
   "source": [
    "Remarquez quelque chose dans l’exemple ci-dessus.\n",
    "\n",
    "Lorsque nous avons tapé `expr - x`, nous n’avons pas obtenu `x + 2*y - x`, mais simplement `2*y`.  \n",
    "Les termes $x$ et $-x$ se sont automatiquement **simplifiés** l’un avec l’autre.  \n",
    "\n",
    "C’est similaire à la manière dont `sqrt(8)` s’est automatiquement transformé en `2*sqrt(2)` plus haut.\n",
    "\n",
    "Cependant, ce **n’est pas toujours le cas** dans SymPy :"
   ]
  },
  {
   "cell_type": "code",
   "execution_count": 12,
   "id": "a8330c4669870751",
   "metadata": {
    "ExecuteTime": {
     "end_time": "2025-10-20T09:29:42.774271Z",
     "start_time": "2025-10-20T09:29:42.770921Z"
    }
   },
   "outputs": [
    {
     "data": {
      "text/latex": [
       "$\\displaystyle x \\left(x + 2 y\\right)$"
      ],
      "text/plain": [
       "x*(x + 2*y)"
      ]
     },
     "execution_count": 12,
     "metadata": {},
     "output_type": "execute_result"
    }
   ],
   "source": [
    "x * expr"
   ]
  },
  {
   "cell_type": "markdown",
   "id": "c1ffe100bccfa15",
   "metadata": {},
   "source": [
    "Ici, on aurait pu s’attendre à ce que l’expression soit transformée, mais au lieu de cela, elle est restée inchangée.\n",
    "\n",
    "C’est un **comportement typique** de SymPy.  \n",
    "\n",
    "À part quelques simplifications évidentes (comme $x - x = 0$ ou $\\sqrt{8} = 2\\sqrt{2}$), la plupart des simplifications **ne sont pas effectuées automatiquement**.  \n",
    "La raison en est que, selon le contexte, on peut préférer la **forme factorisée** d’une expression ou, au contraire, sa **forme développée**.  \n",
    "Les deux représentations sont utiles dans des situations différentes.  \n",
    "\n",
    "Dans SymPy, il existe des fonctions permettant de **passer d’une forme à l’autre**."
   ]
  },
  {
   "cell_type": "code",
   "execution_count": 13,
   "id": "eb7e7cdcc88099bd",
   "metadata": {
    "ExecuteTime": {
     "end_time": "2025-10-20T09:30:04.897295Z",
     "start_time": "2025-10-20T09:30:04.890097Z"
    }
   },
   "outputs": [
    {
     "data": {
      "text/latex": [
       "$\\displaystyle x^{2} + 2 x y$"
      ],
      "text/plain": [
       "x**2 + 2*x*y"
      ]
     },
     "execution_count": 13,
     "metadata": {},
     "output_type": "execute_result"
    }
   ],
   "source": [
    "from sympy import expand, factor\n",
    "expanded_expr = expand(x*expr)\n",
    "expanded_expr"
   ]
  },
  {
   "cell_type": "code",
   "execution_count": 14,
   "id": "25d7e8c2f8f4ec59",
   "metadata": {
    "ExecuteTime": {
     "end_time": "2025-10-20T09:30:17.139634Z",
     "start_time": "2025-10-20T09:30:17.133415Z"
    }
   },
   "outputs": [
    {
     "data": {
      "text/latex": [
       "$\\displaystyle x \\left(x + 2 y\\right)$"
      ],
      "text/plain": [
       "x*(x + 2*y)"
      ]
     },
     "execution_count": 14,
     "metadata": {},
     "output_type": "execute_result"
    }
   ],
   "source": [
    "factor(expanded_expr)"
   ]
  },
  {
   "cell_type": "markdown",
   "id": "fdd135a07523ce86",
   "metadata": {},
   "source": [
    "## La puissance du calcul symbolique\n",
    "\n",
    "La véritable puissance d’un système de calcul symbolique comme **SymPy** réside dans sa capacité à effectuer **toutes sortes de calculs de manière symbolique**.  \n",
    "SymPy peut simplifier des expressions, calculer des dérivées, des intégrales et des limites, résoudre des équations, manipuler des matrices, et bien plus encore — le tout **symboliquement**.\n",
    "\n",
    "Il comprend également des modules pour la **visualisation** (graphiques), l’**affichage** (comme la mise en forme lisible en 2D des formules mathématiques, ou encore la sortie en **LaTeX**), la **génération de code**, ainsi que des outils pour la **physique**, les **statistiques**, les **combinatoires**, la **théorie des nombres**, la **géométrie**, la **logique**, et bien d’autres domaines.\n",
    "\n",
    "Voici un petit aperçu des capacités symboliques de SymPy, juste pour vous **ouvrir l’appétit**."
   ]
  },
  {
   "cell_type": "code",
   "execution_count": 23,
   "id": "ea996a78f0450d04",
   "metadata": {
    "ExecuteTime": {
     "end_time": "2025-10-20T09:52:39.840618Z",
     "start_time": "2025-10-20T09:52:39.837065Z"
    }
   },
   "outputs": [],
   "source": [
    "from sympy import *\n",
    "x, t, z, nu = symbols('x t z nu')"
   ]
  },
  {
   "cell_type": "markdown",
   "id": "8dafc06ab15c9602",
   "metadata": {},
   "source": [
    "Cela permettra à tous les exemples suivants d’être **affichés joliment** à l’aide de **caractères Unicode**."
   ]
  },
  {
   "cell_type": "code",
   "execution_count": 24,
   "id": "410a4e5524c77d7f",
   "metadata": {
    "ExecuteTime": {
     "end_time": "2025-10-20T09:53:37.501719Z",
     "start_time": "2025-10-20T09:53:37.497379Z"
    }
   },
   "outputs": [],
   "source": [
    "init_printing(use_unicode=True)"
   ]
  },
  {
   "cell_type": "markdown",
   "id": "8c29d7461228ecdf",
   "metadata": {},
   "source": [
    "Calculons la **dérivée** de $ \\sin(x) \\times e^x $."
   ]
  },
  {
   "cell_type": "code",
   "execution_count": 25,
   "id": "6733e5289116992f",
   "metadata": {
    "ExecuteTime": {
     "end_time": "2025-10-20T09:53:55.959257Z",
     "start_time": "2025-10-20T09:53:55.500185Z"
    }
   },
   "outputs": [
    {
     "data": {
      "image/png": "[encoded data removed]",
      "text/latex": [
       "$\\displaystyle e^{x} \\sin{\\left(x \\right)} + e^{x} \\cos{\\left(x \\right)}$"
      ],
      "text/plain": [
       " x           x       \n",
       "ℯ ⋅sin(x) + ℯ ⋅cos(x)"
      ]
     },
     "execution_count": 25,
     "metadata": {},
     "output_type": "execute_result"
    }
   ],
   "source": [
    "diff(sin(x)*exp(x), x)"
   ]
  },
  {
   "cell_type": "markdown",
   "id": "fdbc17687b1c9fa8",
   "metadata": {},
   "source": [
    "Calculons $\\int{(e^x * sin(x) + e^x * cos(x))dx}$."
   ]
  },
  {
   "cell_type": "code",
   "execution_count": 26,
   "id": "d25fc8dbbd96b1c1",
   "metadata": {
    "ExecuteTime": {
     "end_time": "2025-10-20T09:56:23.955370Z",
     "start_time": "2025-10-20T09:56:23.680754Z"
    }
   },
   "outputs": [
    {
     "data": {
      "image/png": "[encoded data removed]",
      "text/latex": [
       "$\\displaystyle e^{x} \\sin{\\left(x \\right)}$"
      ],
      "text/plain": [
       " x       \n",
       "ℯ ⋅sin(x)"
      ]
     },
     "execution_count": 26,
     "metadata": {},
     "output_type": "execute_result"
    }
   ],
   "source": [
    "integrate(exp(x)*sin(x) + exp(x)*cos(x), x)"
   ]
  },
  {
   "cell_type": "markdown",
   "id": "1c282f9541632ef6",
   "metadata": {},
   "source": [
    "Calculons $\\int^{inf}_{-inf}{sin(x^2)dx}$."
   ]
  },
  {
   "cell_type": "code",
   "execution_count": 27,
   "id": "d1d3f2f2bd7510f2",
   "metadata": {
    "ExecuteTime": {
     "end_time": "2025-10-20T09:58:16.470620Z",
     "start_time": "2025-10-20T09:58:16.212980Z"
    }
   },
   "outputs": [
    {
     "data": {
      "image/png": "[encoded data removed]",
      "text/latex": [
       "$\\displaystyle \\frac{\\sqrt{2} \\sqrt{\\pi}}{2}$"
      ],
      "text/plain": [
       "√2⋅√π\n",
       "─────\n",
       "  2  "
      ]
     },
     "execution_count": 27,
     "metadata": {},
     "output_type": "execute_result"
    }
   ],
   "source": [
    "integrate(sin(x**2), (x, -oo, oo))"
   ]
  },
  {
   "cell_type": "markdown",
   "id": "68766e761040d0b7",
   "metadata": {},
   "source": [
    "Calculons $\\lim_{x \\rightarrow 0}{\\frac{sin(x)}{x}}$"
   ]
  },
  {
   "cell_type": "code",
   "execution_count": 28,
   "id": "ac284641a5e399c",
   "metadata": {
    "ExecuteTime": {
     "end_time": "2025-10-20T09:59:08.849156Z",
     "start_time": "2025-10-20T09:59:08.651172Z"
    }
   },
   "outputs": [
    {
     "data": {
      "image/png": "[encoded data removed]",
      "text/latex": [
       "$\\displaystyle 1$"
      ],
      "text/plain": [
       "1"
      ]
     },
     "execution_count": 28,
     "metadata": {},
     "output_type": "execute_result"
    }
   ],
   "source": [
    "limit(sin(x)/x, x, 0)"
   ]
  },
  {
   "cell_type": "markdown",
   "id": "28d0b053631ed256",
   "metadata": {},
   "source": [
    "Résolvons $x^2 - 2 = 0$"
   ]
  },
  {
   "cell_type": "code",
   "execution_count": 29,
   "id": "8dad12dffac39150",
   "metadata": {
    "ExecuteTime": {
     "end_time": "2025-10-20T09:59:42.567400Z",
     "start_time": "2025-10-20T09:59:42.358594Z"
    }
   },
   "outputs": [
    {
     "data": {
      "image/png": "[encoded data removed]",
      "text/latex": [
       "$\\displaystyle \\left[ - \\sqrt{2}, \\  \\sqrt{2}\\right]$"
      ],
      "text/plain": [
       "[-√2, √2]"
      ]
     },
     "execution_count": 29,
     "metadata": {},
     "output_type": "execute_result"
    }
   ],
   "source": [
    "solve(x**2 - 2, x)"
   ]
  },
  {
   "cell_type": "markdown",
   "id": "b65e0ab5ddb0b3a5",
   "metadata": {},
   "source": [
    "Résolvons l'équation différentielle $y''  - y = e^t$"
   ]
  },
  {
   "cell_type": "code",
   "execution_count": 30,
   "id": "a1004c9e8f4cd1a8",
   "metadata": {
    "ExecuteTime": {
     "end_time": "2025-10-20T10:00:47.306960Z",
     "start_time": "2025-10-20T10:00:47.032339Z"
    }
   },
   "outputs": [
    {
     "data": {
      "image/png": "[encoded data removed]",
      "text/latex": [
       "$\\displaystyle y{\\left(t \\right)} = C_{2} e^{- t} + \\left(C_{1} + \\frac{t}{2}\\right) e^{t}$"
      ],
      "text/plain": [
       "           -t   ⎛     t⎞  t\n",
       "y(t) = C₂⋅ℯ   + ⎜C₁ + ─⎟⋅ℯ \n",
       "                ⎝     2⎠   "
      ]
     },
     "execution_count": 30,
     "metadata": {},
     "output_type": "execute_result"
    }
   ],
   "source": [
    "y = Function('y')\n",
    "dsolve(Eq(y(t).diff(t, t) - y(t), exp(t)), y(t))"
   ]
  },
  {
   "cell_type": "markdown",
   "id": "98b0ac6c-1c32-4235-a259-4c4aaccb4d44",
   "metadata": {},
   "source": [
    "Trouvons les valeurs propres de $\n",
    "\\begin{bmatrix}\n",
    "1 & 2 \\\\\n",
    "2 & 2\n",
    "\\end{bmatrix}\n",
    "$."
   ]
  },
  {
   "cell_type": "code",
   "execution_count": 31,
   "id": "129751eee4101011",
   "metadata": {},
   "outputs": [
    {
     "data": {
      "image/png": "[encoded data removed]",
      "text/latex": [
       "$\\displaystyle \\left\\{ \\frac{3}{2} - \\frac{\\sqrt{17}}{2} : 1, \\  \\frac{3}{2} + \\frac{\\sqrt{17}}{2} : 1\\right\\}$"
      ],
      "text/plain": [
       "⎧3   √17     3   √17   ⎫\n",
       "⎨─ - ───: 1, ─ + ───: 1⎬\n",
       "⎩2    2      2    2    ⎭"
      ]
     },
     "execution_count": 31,
     "metadata": {},
     "output_type": "execute_result"
    }
   ],
   "source": [
    "Matrix([[1, 2], [2, 2]]).eigenvals()"
   ]
  },
  {
   "cell_type": "markdown",
   "id": "97a209cc-51fd-4c5a-8a9e-840febb9d269",
   "metadata": {},
   "source": [
    "Réécris la fonction de Bessel $J_v(z)$ en termes de la fonction de Bessel sphérique $j_v(z)$."
   ]
  },
  {
   "cell_type": "code",
   "execution_count": 32,
   "id": "5ce3ceae-757f-4ef8-8c8a-beba27cd6f5c",
   "metadata": {},
   "outputs": [
    {
     "data": {
      "image/png": "[encoded data removed]",
      "text/latex": [
       "$\\displaystyle \\frac{\\sqrt{2} \\sqrt{z} j_{\\nu - \\frac{1}{2}}\\left(z\\right)}{\\sqrt{\\pi}}$"
      ],
      "text/plain": [
       "√2⋅√z⋅jn(ν - 1/2, z)\n",
       "────────────────────\n",
       "         √π         "
      ]
     },
     "execution_count": 32,
     "metadata": {},
     "output_type": "execute_result"
    }
   ],
   "source": [
    "besselj(nu, z).rewrite(jn)"
   ]
  },
  {
   "cell_type": "markdown",
   "id": "d8fa2c8e-2b7c-4c45-b526-44ea53e2eee4",
   "metadata": {},
   "source": [
    "Affiche $\\int_{0}^{\\pi}{cos^2(x)dx}$ using LaTeX"
   ]
  },
  {
   "cell_type": "code",
   "execution_count": 34,
   "id": "ca2362f7-81e5-47b9-9b5f-1b750671e763",
   "metadata": {},
   "outputs": [
    {
     "data": {
      "text/plain": [
       "'\\\\int\\\\limits_{0}^{\\\\pi} \\\\cos^{2}{\\\\left(x \\\\right)}\\\\, dx'"
      ]
     },
     "execution_count": 34,
     "metadata": {},
     "output_type": "execute_result"
    }
   ],
   "source": [
    "latex(Integral(cos(x)**2, (x, 0, pi)))"
   ]
  },
  {
   "cell_type": "markdown",
   "id": "8f8e07ba-0a45-40bc-b046-95ff0dc45f52",
   "metadata": {},
   "source": [
    "## Pourquoi SymPy ?\n",
    "\n",
    "Il existe de nombreux systèmes d’algèbre informatique. Cet article de Wikipédia en répertorie plusieurs. Qu’est-ce qui fait de **SymPy** un meilleur choix que les autres ?\n",
    "\n",
    "Tout d’abord, **SymPy est entièrement gratuit**. Il est open source et publié sous la **licence BSD**, une licence très permissive : vous pouvez donc modifier le code source et même le vendre si vous le souhaitez. Cela contraste avec des systèmes commerciaux populaires comme **Maple** ou **Mathematica**, qui coûtent des centaines de dollars en licences.\n",
    "\n",
    "Ensuite, **SymPy utilise Python**. La plupart des systèmes d’algèbre formelle inventent leur propre langage. Pas SymPy. SymPy est écrit entièrement en Python et s’exécute entièrement en Python. Cela signifie que si vous connaissez déjà Python, il est beaucoup plus facile de débuter avec SymPy, puisque vous maîtrisez déjà la syntaxe (et si vous ne connaissez pas Python, c’est un langage très facile à apprendre). Nous savons déjà que Python est un langage bien conçu et largement éprouvé. Les développeurs de SymPy sont confiants dans leurs compétences en écriture de logiciels mathématiques, mais la conception d’un langage de programmation est un tout autre domaine. En réutilisant un langage existant, ils peuvent se concentrer sur l’essentiel : **les mathématiques**.\n",
    "\n",
    "Un autre système d’algèbre informatique, **Sage**, utilise également Python comme langage. Mais Sage est volumineux : son téléchargement dépasse le gigaoctet. L’un des avantages de SymPy est qu’il est **léger**. En plus d’être relativement petit, il **n’a aucune dépendance autre que Python**, ce qui le rend facile à utiliser presque partout. De plus, les objectifs de Sage et ceux de SymPy sont différents. Sage vise à être un système complet pour les mathématiques, et il le fait en **intégrant** de nombreux systèmes open source existants. Par exemple, lorsqu’on appelle une fonction dans Sage, comme `integrate`, Sage fait appel à l’un des paquets qu’il inclut — et **SymPy en fait partie**.\n",
    "SymPy, en revanche, cherche à être un **système indépendant**, avec toutes ses fonctionnalités **implémentées en interne**.\n",
    "\n",
    "Enfin, un autre point important est que **SymPy peut être utilisé comme bibliothèque**. De nombreux systèmes d’algèbre informatique sont surtout conçus pour une utilisation interactive ; si vous souhaitez les automatiser ou les étendre, cela devient difficile. Avec SymPy, vous pouvez aussi bien l’utiliser dans un environnement interactif Python que **l’importer dans vos propres applications Python**. SymPy fournit également des **API** qui facilitent l’extension du système avec vos **propres fonctions personnalisées**.\n"
   ]
  },
  {
   "cell_type": "code",
   "execution_count": null,
   "id": "f01ca8b0-c828-4ba1-be0f-4e7ae04179aa",
   "metadata": {},
   "outputs": [],
   "source": []
  }
 ],
 "metadata": {
  "kernelspec": {
   "display_name": "Python 3 (ipykernel)",
   "language": "python",
   "name": "python3"
  },
  "language_info": {
   "codemirror_mode": {
    "name": "ipython",
    "version": 3
   },
   "file_extension": ".py",
   "mimetype": "text/x-python",
   "name": "python",
   "nbconvert_exporter": "python",
   "pygments_lexer": "ipython3",
   "version": "3.11.13"
  }
 },
 "nbformat": 4,
 "nbformat_minor": 5
}
