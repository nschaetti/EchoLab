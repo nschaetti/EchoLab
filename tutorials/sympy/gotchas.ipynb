{
 "cells": [
  {
   "cell_type": "markdown",
   "id": "6555d9f38b647cbf",
   "metadata": {},
   "source": [
    "# Gotchas\n",
    "\n",
    "To begin, we should make something about SymPy clear. SymPy is nothing more than a Python library, like `NumPy`, `Django`, or even modules in the Python standard library `sys` or `re`. What this means is that SymPy does not add anything to the Python language. Limitations that are inherent in the Python language are also inherent in SymPy. It also means that SymPy tries to use Python idioms whenever possible, making programming with SymPy easy for those already familiar with programming with Python. As a simple example, SymPy uses Python syntax to build expressions. Implicit multiplication (like 3x or 3 x) is not allowed in Python, and thus not allowed in SymPy. To multiply `3` and `x`, you must type `3*x` with the `*`."
   ]
  },
  {
   "cell_type": "markdown",
   "id": "48559ec7906d2939",
   "metadata": {},
   "source": [
    "## Symbols\n",
    "\n",
    "One consequence of this fact is that SymPy can be used in any environment where Python is available. We just import it, like we would any other library:"
   ]
  },
  {
   "cell_type": "code",
   "execution_count": 1,
   "id": "bba4f1a61da4719b",
   "metadata": {
    "ExecuteTime": {
     "end_time": "2025-10-20T10:45:15.798929Z",
     "start_time": "2025-10-20T10:45:15.693623Z"
    }
   },
   "outputs": [],
   "source": [
    "from sympy import *"
   ]
  },
  {
   "cell_type": "markdown",
   "id": "300ee17a-06e5-4526-af2e-30819b1f3fe4",
   "metadata": {},
   "source": [
    "This imports all the functions and classes from SymPy into our interactive Python session. Now, suppose we start to do a computation."
   ]
  },
  {
   "cell_type": "code",
   "execution_count": 2,
   "id": "c8c872802835d175",
   "metadata": {},
   "outputs": [
    {
     "ename": "NameError",
     "evalue": "name 'x' is not defined",
     "output_type": "error",
     "traceback": [
      "\u001b[31m---------------------------------------------------------------------------\u001b[39m",
      "\u001b[31mNameError\u001b[39m                                 Traceback (most recent call last)",
      "\u001b[36mCell\u001b[39m\u001b[36m \u001b[39m\u001b[32mIn[2]\u001b[39m\u001b[32m, line 1\u001b[39m\n\u001b[32m----> \u001b[39m\u001b[32m1\u001b[39m \u001b[43mx\u001b[49m + \u001b[32m1\u001b[39m\n",
      "\u001b[31mNameError\u001b[39m: name 'x' is not defined"
     ]
    }
   ],
   "source": [
    "x + 1"
   ]
  },
  {
   "cell_type": "markdown",
   "id": "bfaab35d-9f61-42d9-8960-ec8bae408f85",
   "metadata": {},
   "source": [
    "Oops! What happened here? We tried to use the variable `x`, but it tells us that `x` is not defined. In Python, variables have no meaning until they are defined. SymPy is no different. Unlike many symbolic manipulation systems you may have used, in SymPy, variables are not defined automatically. To define variables, we must use `symbols`."
   ]
  },
  {
   "cell_type": "code",
   "execution_count": 3,
   "id": "a104171e-09a6-44cb-962f-102ccf0f80c3",
   "metadata": {},
   "outputs": [
    {
     "data": {
      "text/latex": [
       "$\\displaystyle x + 1$"
      ],
      "text/plain": [
       "x + 1"
      ]
     },
     "execution_count": 3,
     "metadata": {},
     "output_type": "execute_result"
    }
   ],
   "source": [
    "x = symbols('x')\n",
    "x + 1"
   ]
  },
  {
   "cell_type": "markdown",
   "id": "2f06cfc3-3a1b-40c7-a941-c648abe2c20d",
   "metadata": {},
   "source": [
    "`symbols` takes a string of variable names separated by spaces or commas, and creates Symbols out of them. We can then assign these to variable names. Later, we will investigate some convenient ways we can work around this issue. For now, let us just define the most common variable names, `x`, `y`, and `z`, for use through the rest of this section"
   ]
  },
  {
   "cell_type": "code",
   "execution_count": 4,
   "id": "67ae7861-5dfd-4943-815e-117d922b5cb4",
   "metadata": {},
   "outputs": [],
   "source": [
    "x, y, z = symbols('x y z')"
   ]
  },
  {
   "cell_type": "markdown",
   "id": "521e752d-3714-4961-a733-595be25bf0db",
   "metadata": {},
   "source": [
    "As a final note, we note that the name of a Symbol and the name of the variable it is assigned to need not have anything to do with one another."
   ]
  },
  {
   "cell_type": "code",
   "execution_count": 5,
   "id": "72ff5770-f43c-4cd9-b93f-baae29f0d457",
   "metadata": {},
   "outputs": [
    {
     "data": {
      "text/latex": [
       "$\\displaystyle b$"
      ],
      "text/plain": [
       "b"
      ]
     },
     "execution_count": 5,
     "metadata": {},
     "output_type": "execute_result"
    }
   ],
   "source": [
    "a, b = symbols('b a')\n",
    "a"
   ]
  },
  {
   "cell_type": "code",
   "execution_count": 6,
   "id": "7d8b1fa9-17d0-4582-bb38-1240603d8919",
   "metadata": {},
   "outputs": [
    {
     "data": {
      "text/latex": [
       "$\\displaystyle a$"
      ],
      "text/plain": [
       "a"
      ]
     },
     "execution_count": 6,
     "metadata": {},
     "output_type": "execute_result"
    }
   ],
   "source": [
    "b"
   ]
  },
  {
   "cell_type": "markdown",
   "id": "5a8daeee-410b-4ad7-9cbe-7439b9cebceb",
   "metadata": {},
   "source": [
    "Here we have done the very confusing thing of assigning a Symbol with the name `a` to the variable `b`, and a Symbol of the name `b` to the variable `a`. Now the Python variable named a points to the SymPy Symbol named `b`, and vice versa. How confusing. We could have also done something like"
   ]
  },
  {
   "cell_type": "code",
   "execution_count": 7,
   "id": "da3361e0-8b4c-4b1d-b5c0-a44f76b1d53a",
   "metadata": {},
   "outputs": [
    {
     "data": {
      "text/latex": [
       "$\\displaystyle unrelated + 1$"
      ],
      "text/plain": [
       "unrelated + 1"
      ]
     },
     "execution_count": 7,
     "metadata": {},
     "output_type": "execute_result"
    }
   ],
   "source": [
    "crazy = symbols('unrelated')\n",
    "crazy + 1"
   ]
  },
  {
   "cell_type": "markdown",
   "id": "29933728-4e27-4115-96a4-99a76212019f",
   "metadata": {},
   "source": [
    "This also shows that Symbols can have names longer than one character if we want.\n",
    "\n",
    "Usually, the best practice is to assign Symbols to Python variables of the same name, although there are exceptions: Symbol names can contain characters that are not allowed in Python variable names, or may just want to avoid typing long names by assigning Symbols with long names to single letter Python variables.\n",
    "\n",
    "To avoid confusion, throughout this tutorial, Symbol names and Python variable names will always coincide. Furthermore, the word “Symbol” will refer to a SymPy Symbol and the word “variable” will refer to a Python variable.\n",
    "\n",
    "Finally, let us be sure we understand the difference between SymPy Symbols and Python variables. Consider the following:"
   ]
  },
  {
   "cell_type": "code",
   "execution_count": 8,
   "id": "a916427f-9e05-4a5b-a5c3-d5b372c204d3",
   "metadata": {},
   "outputs": [
    {
     "name": "stdout",
     "output_type": "stream",
     "text": [
      "x + 1\n"
     ]
    }
   ],
   "source": [
    "x = symbols('x')\n",
    "expr = x + 1\n",
    "x = 2\n",
    "print(expr)"
   ]
  },
  {
   "cell_type": "markdown",
   "id": "f934911c-37d9-4eee-b921-b49f42805903",
   "metadata": {},
   "source": [
    "What do you think the output of this code will be? If you thought 3, you’re wrong. Let’s see what really happens"
   ]
  },
  {
   "cell_type": "code",
   "execution_count": 9,
   "id": "7766ee54-c1ed-4067-b503-e28bb126a705",
   "metadata": {},
   "outputs": [
    {
     "name": "stdout",
     "output_type": "stream",
     "text": [
      "x + 1\n"
     ]
    }
   ],
   "source": [
    "x = symbols('x')\n",
    "expr = x + 1\n",
    "x = 2\n",
    "print(expr)"
   ]
  },
  {
   "cell_type": "markdown",
   "id": "04ad7060-22d3-4c7b-97ef-683a5ba2ac4f",
   "metadata": {},
   "source": [
    "Changing `x` to `2` had no effect on `expr`. This is because `x = 2` changes the Python variable `x` to `2`, but has no effect on the SymPy Symbol `x`, which was what we used in creating `expr`. When we created expr, the Python variable `x` was a Symbol. After we created, it, we changed the Python variable x to 2. But expr remains the same. This behavior is not unique to SymPy. All Python programs work this way: if a variable is changed, expressions that were already created with that variable do not change automatically. For example"
   ]
  },
  {
   "cell_type": "code",
   "execution_count": 10,
   "id": "947d8a56-3573-475c-b288-33fbb697216e",
   "metadata": {},
   "outputs": [
    {
     "data": {
      "text/plain": [
       "'abcdef'"
      ]
     },
     "execution_count": 10,
     "metadata": {},
     "output_type": "execute_result"
    }
   ],
   "source": [
    "x = 'abc'\n",
    "expr = x + 'def'\n",
    "expr"
   ]
  },
  {
   "cell_type": "code",
   "execution_count": 11,
   "id": "89b7db07-127f-40cf-b342-c398e5214179",
   "metadata": {},
   "outputs": [
    {
     "data": {
      "text/plain": [
       "'abcdef'"
      ]
     },
     "execution_count": 11,
     "metadata": {},
     "output_type": "execute_result"
    }
   ],
   "source": [
    "x = 'ABC'\n",
    "expr"
   ]
  },
  {
   "cell_type": "markdown",
   "id": "1741e6d0-dc1d-4064-b0c7-8dfc6779c30c",
   "metadata": {},
   "source": [
    "In this example, if we want to know what `expr` is with the new value of `x`, we need to reevaluate the code that created expr, namely, `expr = x + 1`. This can be complicated if several lines created `expr`. One advantage of using a symbolic computation system like SymPy is that we can build a symbolic representation for expr, and then substitute `x` with values. The correct way to do this in SymPy is to use `subs`, which will be discussed in more detail later."
   ]
  },
  {
   "cell_type": "code",
   "execution_count": 12,
   "id": "2cd76e38-a396-4e4e-b07c-48241e73b1e9",
   "metadata": {},
   "outputs": [
    {
     "data": {
      "text/latex": [
       "$\\displaystyle 3$"
      ],
      "text/plain": [
       "3"
      ]
     },
     "execution_count": 12,
     "metadata": {},
     "output_type": "execute_result"
    }
   ],
   "source": [
    "x = symbols('x')\n",
    "expr = x + 1\n",
    "expr.subs(x, 2)"
   ]
  },
  {
   "cell_type": "code",
   "execution_count": null,
   "id": "4c97431d-49b9-4a5e-9def-905b3965f253",
   "metadata": {},
   "outputs": [],
   "source": []
  }
 ],
 "metadata": {
  "kernelspec": {
   "display_name": "Python 3 (ipykernel)",
   "language": "python",
   "name": "python3"
  },
  "language_info": {
   "codemirror_mode": {
    "name": "ipython",
    "version": 3
   },
   "file_extension": ".py",
   "mimetype": "text/x-python",
   "name": "python",
   "nbconvert_exporter": "python",
   "pygments_lexer": "ipython3",
   "version": "3.11.13"
  }
 },
 "nbformat": 4,
 "nbformat_minor": 5
}
